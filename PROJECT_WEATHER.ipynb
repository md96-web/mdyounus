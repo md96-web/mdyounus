{
  "nbformat": 4,
  "nbformat_minor": 0,
  "metadata": {
    "colab": {
      "private_outputs": true,
      "provenance": [],
      "authorship_tag": "ABX9TyOleGRFj/nj9ZWz4KslFiPm",
      "include_colab_link": true
    },
    "kernelspec": {
      "name": "python3",
      "display_name": "Python 3"
    },
    "language_info": {
      "name": "python"
    }
  },
  "cells": [
    {
      "cell_type": "markdown",
      "metadata": {
        "id": "view-in-github",
        "colab_type": "text"
      },
      "source": [
        "<a href=\"https://colab.research.google.com/github/md96-web/mdyounus/blob/main/PROJECT_WEATHER.ipynb\" target=\"_parent\"><img src=\"https://colab.research.google.com/assets/colab-badge.svg\" alt=\"Open In Colab\"/></a>"
      ]
    },
    {
      "cell_type": "code",
      "execution_count": null,
      "metadata": {
        "id": "nN0El5YMhIhT"
      },
      "outputs": [],
      "source": [
        "import pandas as pd"
      ]
    },
    {
      "cell_type": "code",
      "source": [
        "data=pd.read_csv(\"/content/weather file.csv\")\n",
        "data"
      ],
      "metadata": {
        "id": "jhuohSxM9Kdl"
      },
      "execution_count": null,
      "outputs": []
    },
    {
      "cell_type": "code",
      "source": [
        "data.head()"
      ],
      "metadata": {
        "id": "JT8RSaB3_dTr"
      },
      "execution_count": null,
      "outputs": []
    },
    {
      "cell_type": "code",
      "source": [
        "data.shape"
      ],
      "metadata": {
        "id": "UDTv0JflBN6U"
      },
      "execution_count": null,
      "outputs": []
    },
    {
      "cell_type": "code",
      "source": [
        "data.index"
      ],
      "metadata": {
        "id": "KVvt_9peBbar"
      },
      "execution_count": null,
      "outputs": []
    },
    {
      "cell_type": "code",
      "source": [
        "data.columns"
      ],
      "metadata": {
        "id": "H4zo8AyvBt2c"
      },
      "execution_count": null,
      "outputs": []
    },
    {
      "cell_type": "code",
      "source": [
        "data.dtypes"
      ],
      "metadata": {
        "id": "bCcWiMZ1Bz6z"
      },
      "execution_count": null,
      "outputs": []
    },
    {
      "cell_type": "code",
      "source": [
        "data['Weather'].unique()"
      ],
      "metadata": {
        "id": "3VR18uEaB9bS"
      },
      "execution_count": null,
      "outputs": []
    },
    {
      "cell_type": "code",
      "source": [
        "data['Weather'].nunique()"
      ],
      "metadata": {
        "id": "rrtSU9TTCfth"
      },
      "execution_count": null,
      "outputs": []
    },
    {
      "cell_type": "code",
      "source": [
        "data.count()"
      ],
      "metadata": {
        "id": "WlEcl2o5C5ZY"
      },
      "execution_count": null,
      "outputs": []
    },
    {
      "cell_type": "code",
      "source": [
        "data['Weather'].value_counts()#it shows only particular column"
      ],
      "metadata": {
        "id": "HOEoovMvC_Hw"
      },
      "execution_count": null,
      "outputs": []
    },
    {
      "cell_type": "code",
      "source": [
        "data.info()"
      ],
      "metadata": {
        "id": "eishp01-EYxN"
      },
      "execution_count": null,
      "outputs": []
    },
    {
      "cell_type": "code",
      "source": [
        "\n",
        "\n",
        "#Q. 10) Find all instances when 'Wind Speed is above 24' and 'Visibility is 25'.\n",
        "#Q. 11) What is the Mean value of each column against each 'Weather Condition ?\n",
        "#Q. 12) What is the Minimum & Maximum value of each column against each 'Weather Condition ?\n",
        "#Q. 13) Show all the Records where Weather Condition is Fog.\n",
        "#Q. 14) Find all instances when 'Weather is Clear' or 'Visibility is above 40'.\n",
        "#Q. 15) Find all instances when :\n",
        "#A. 'Weather is Clear' and 'Relative Humidity is greater than 50'\n",
        "or\n",
        "#B. 'Visibility is above 40'\n"
      ],
      "metadata": {
        "id": "_xGoByViEdtN"
      },
      "execution_count": null,
      "outputs": []
    },
    {
      "cell_type": "code",
      "source": [
        "#Q. 1)  Find all the unique 'Wind Speed' values in the data."
      ],
      "metadata": {
        "id": "tBLQWBhJEpI-"
      },
      "execution_count": null,
      "outputs": []
    },
    {
      "cell_type": "code",
      "source": [
        "data.head(2)"
      ],
      "metadata": {
        "id": "JsMg0tKCE0E1"
      },
      "execution_count": null,
      "outputs": []
    },
    {
      "cell_type": "code",
      "source": [
        "data['Wind Speed_km/h'].nunique()"
      ],
      "metadata": {
        "id": "iYNDYr-rFfgs"
      },
      "execution_count": null,
      "outputs": []
    },
    {
      "cell_type": "code",
      "source": [
        "data['Wind Speed_km/h'].unique()"
      ],
      "metadata": {
        "id": "O0InLczEF0lS"
      },
      "execution_count": null,
      "outputs": []
    },
    {
      "cell_type": "code",
      "source": [
        "#Q. 2) Find the number of times when the 'Weather is exactly Clear'."
      ],
      "metadata": {
        "id": "v-ifDMt4HlAH"
      },
      "execution_count": null,
      "outputs": []
    },
    {
      "cell_type": "code",
      "source": [
        "data.head(2)"
      ],
      "metadata": {
        "id": "ayRGAFi5HzaB"
      },
      "execution_count": null,
      "outputs": []
    },
    {
      "cell_type": "code",
      "source": [
        "data['Weather'].value_counts()"
      ],
      "metadata": {
        "id": "jUhg2rN-GJCp"
      },
      "execution_count": null,
      "outputs": []
    },
    {
      "cell_type": "code",
      "source": [
        "#filtering\n",
        "data.head(2)\n",
        "data[data.Weather =='Clear']"
      ],
      "metadata": {
        "id": "52cEC6AqHu2f"
      },
      "execution_count": null,
      "outputs": []
    },
    {
      "cell_type": "code",
      "source": [
        "#groupby\n",
        "data.head(2)\n",
        "data.groupby['Weather'].get_group('Clear')"
      ],
      "metadata": {
        "id": "FsxYuic8Kiuo"
      },
      "execution_count": null,
      "outputs": []
    },
    {
      "cell_type": "code",
      "source": [
        "#Q. 3) Find the number of times when the 'Wind Speed was exactly 4 km/h'."
      ],
      "metadata": {
        "id": "huUXNQWBL_RX"
      },
      "execution_count": null,
      "outputs": []
    },
    {
      "cell_type": "code",
      "source": [
        "data.head(2)\n",
        "data[data['Wind Speed_km/h'] == 4]\n"
      ],
      "metadata": {
        "id": "iUMiXOSWMoX0"
      },
      "execution_count": null,
      "outputs": []
    },
    {
      "cell_type": "code",
      "source": [
        "#Q. 4) Find out all the Null Values in the data."
      ],
      "metadata": {
        "id": "C5dac8dfMS4k"
      },
      "execution_count": null,
      "outputs": []
    },
    {
      "cell_type": "code",
      "source": [
        "data.isnull().sum()"
      ],
      "metadata": {
        "id": "7tHVH8ihMhMH"
      },
      "execution_count": null,
      "outputs": []
    },
    {
      "cell_type": "code",
      "source": [
        "data.notnull().sum()"
      ],
      "metadata": {
        "id": "gGWWJVduNbeG"
      },
      "execution_count": null,
      "outputs": []
    },
    {
      "cell_type": "code",
      "source": [
        "#Q. 5) Rename the column name 'Weather' of the dataframe to 'Weather Condition'."
      ],
      "metadata": {
        "id": "DA2Qgh1ZNixO"
      },
      "execution_count": null,
      "outputs": []
    },
    {
      "cell_type": "code",
      "source": [
        "data.head(2)"
      ],
      "metadata": {
        "id": "k6iVzonZP9XJ"
      },
      "execution_count": null,
      "outputs": []
    },
    {
      "cell_type": "code",
      "source": [
        "data.rename(columns = {'Weather' : 'Weather condition'  })"
      ],
      "metadata": {
        "id": "ZmMnXmGgN9NI"
      },
      "execution_count": null,
      "outputs": []
    },
    {
      "cell_type": "code",
      "source": [
        "#Q. 6) What is the mean 'Visibility' ?"
      ],
      "metadata": {
        "id": "MrljcH74bNZe"
      },
      "execution_count": null,
      "outputs": []
    },
    {
      "cell_type": "code",
      "source": [
        "data.Visibility_km.mean()"
      ],
      "metadata": {
        "id": "vAmrQFQCbO7i"
      },
      "execution_count": null,
      "outputs": []
    },
    {
      "cell_type": "code",
      "source": [
        " #Q7) What is the Standard Deviation of 'Pressure'  in this data?"
      ],
      "metadata": {
        "id": "XUo5NOwmbcVC"
      },
      "execution_count": null,
      "outputs": []
    },
    {
      "cell_type": "code",
      "source": [
        "data.Press_kPa.std()"
      ],
      "metadata": {
        "id": "1t8p4z3fbyxT"
      },
      "execution_count": null,
      "outputs": []
    },
    {
      "cell_type": "code",
      "source": [
        "#Q. 8) What is the Variance of 'Relative Humidity' in this data ?"
      ],
      "metadata": {
        "id": "O9Ys_dXgcMEi"
      },
      "execution_count": null,
      "outputs": []
    },
    {
      "cell_type": "code",
      "source": [
        "data['Rel Hum_%'].var()"
      ],
      "metadata": {
        "id": "A48OwsimcYSB"
      },
      "execution_count": null,
      "outputs": []
    },
    {
      "cell_type": "code",
      "source": [
        "#Q. 9) Find all instances when 'Snow' was recorded."
      ],
      "metadata": {
        "id": "GBuAA8nteKkO"
      },
      "execution_count": null,
      "outputs": []
    },
    {
      "cell_type": "code",
      "source": [
        "data.head(2)\n",
        "data['Weather'].value_counts()\n"
      ],
      "metadata": {
        "id": "YebQHMB4Hhv3"
      },
      "execution_count": null,
      "outputs": []
    },
    {
      "cell_type": "code",
      "source": [
        "data[data['Weather'] =='Snow']"
      ],
      "metadata": {
        "id": "opd5WFYdLvD-"
      },
      "execution_count": null,
      "outputs": []
    },
    {
      "cell_type": "code",
      "source": [
        "data[data['Weather'].str.contains('Snow')]"
      ],
      "metadata": {
        "id": "zMbVZIXpMHhE"
      },
      "execution_count": null,
      "outputs": []
    }
  ]
}