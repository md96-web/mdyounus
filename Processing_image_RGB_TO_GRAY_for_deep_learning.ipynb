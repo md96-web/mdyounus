{
  "nbformat": 4,
  "nbformat_minor": 0,
  "metadata": {
    "colab": {
      "private_outputs": true,
      "provenance": [],
      "include_colab_link": true
    },
    "kernelspec": {
      "name": "python3",
      "display_name": "Python 3"
    },
    "language_info": {
      "name": "python"
    }
  },
  "cells": [
    {
      "cell_type": "markdown",
      "metadata": {
        "id": "view-in-github",
        "colab_type": "text"
      },
      "source": [
        "<a href=\"https://colab.research.google.com/github/md96-web/mdyounus/blob/main/Processing_image_RGB_TO_GRAY_for_deep_learning.ipynb\" target=\"_parent\"><img src=\"https://colab.research.google.com/assets/colab-badge.svg\" alt=\"Open In Colab\"/></a>"
      ]
    },
    {
      "cell_type": "code",
      "execution_count": null,
      "metadata": {
        "id": "1ow6BSQApJNd"
      },
      "outputs": [],
      "source": [
        "#READING AN IMAGE  FILE AND CONVERTING IT =TO A NUMPY ARRAY.\n",
        "#Resizing an image\n",
        "#RGB to the grayscale image\n"
      ]
    },
    {
      "cell_type": "code",
      "source": [
        "#Getting image from useing webgt\n",
        "!wget \"https://i0.wp.com/apeejay.news/wp-content/uploads/2023/10/131023-APJ-Abdul-Kalam-01.jpg?resize=740%2C740&ssl=1\""
      ],
      "metadata": {
        "id": "9rh5Mwvdp8c7"
      },
      "execution_count": null,
      "outputs": []
    },
    {
      "cell_type": "code",
      "source": [
        "#Libraies that can be used for a image processing\n",
        "#matplotlib.image\n",
        "#pillow\n",
        "#open(cv2)"
      ],
      "metadata": {
        "id": "_2Rogag0rAPt"
      },
      "execution_count": null,
      "outputs": []
    },
    {
      "cell_type": "code",
      "source": [
        "# importing the image module from matplotlib libalary\n",
        "import matplotlib.pyplot as plt\n",
        "import matplotlib.image as mping"
      ],
      "metadata": {
        "id": "nw1vQQNrrgNG"
      },
      "execution_count": null,
      "outputs": []
    },
    {
      "cell_type": "code",
      "source": [
        "#loading an image throught matplotlib.image module\n",
        "img=mping.imread(\"/content/131023-APJ-Abdul-Kalam-01.jpg?resize=740,740&ssl=1\")\n"
      ],
      "metadata": {
        "id": "LXOFvj0ktHve"
      },
      "execution_count": null,
      "outputs": []
    },
    {
      "cell_type": "code",
      "source": [
        "type(img)"
      ],
      "metadata": {
        "id": "Z9gscMm8tf9V"
      },
      "execution_count": null,
      "outputs": []
    },
    {
      "cell_type": "code",
      "source": [
        "print(img.shape)"
      ],
      "metadata": {
        "id": "Tr33Zl52tk6p"
      },
      "execution_count": null,
      "outputs": []
    },
    {
      "cell_type": "code",
      "source": [
        "# it show how the image covert to the numpy array in [matrix]\n",
        "print(img)"
      ],
      "metadata": {
        "id": "MZxoyA0DtsJA"
      },
      "execution_count": null,
      "outputs": []
    },
    {
      "cell_type": "code",
      "source": [
        "#displaying image from the numpy array"
      ],
      "metadata": {
        "id": "TmT35jauuBz0"
      },
      "execution_count": null,
      "outputs": []
    },
    {
      "cell_type": "code",
      "source": [
        "img_plot=plt.imshow(img)\n",
        "plt.show()"
      ],
      "metadata": {
        "id": "whYDCAzAuITM"
      },
      "execution_count": null,
      "outputs": []
    },
    {
      "cell_type": "code",
      "source": [
        "# Resizing the image using pillow library\n",
        "!pip install Pillow"
      ],
      "metadata": {
        "id": "SZN2C7YbulCL"
      },
      "execution_count": null,
      "outputs": []
    },
    {
      "cell_type": "code",
      "source": [
        "from PIL import Image\n",
        "img=Image.open(\"/content/131023-APJ-Abdul-Kalam-01.jpg?resize=740,740&ssl=1\")\n",
        "#img_resized=img.resize ((200x200))\n",
        "img_resized = img.resize((200, 200))"
      ],
      "metadata": {
        "id": "vtR1kyfeuzj3"
      },
      "execution_count": null,
      "outputs": []
    },
    {
      "cell_type": "code",
      "source": [
        "#After Resizing have to save the image in path\n",
        "img_resized.save(\"APJ-Abdul-Kalam-01.jpg\")"
      ],
      "metadata": {
        "id": "TH7Vd099xjyr"
      },
      "execution_count": null,
      "outputs": []
    },
    {
      "cell_type": "code",
      "source": [
        "import matplotlib.image as mping"
      ],
      "metadata": {
        "id": "ZkLmsVX5KGL7"
      },
      "execution_count": null,
      "outputs": []
    },
    {
      "cell_type": "markdown",
      "source": [],
      "metadata": {
        "id": "AU6JbRuovDaL"
      }
    },
    {
      "cell_type": "code",
      "source": [
        "# converting RGB image to grayscale image using open cv\n",
        " #import open cv library"
      ],
      "metadata": {
        "id": "Ko-YXoCK0sa2"
      },
      "execution_count": null,
      "outputs": []
    },
    {
      "cell_type": "code",
      "source": [
        "!pip install opencv-python"
      ],
      "metadata": {
        "id": "HnlS53hW17QB"
      },
      "execution_count": null,
      "outputs": []
    },
    {
      "cell_type": "code",
      "source": [
        "import cv2"
      ],
      "metadata": {
        "id": "CPs4vhqu1-Rh"
      },
      "execution_count": null,
      "outputs": []
    },
    {
      "cell_type": "code",
      "source": [
        "img=cv2.imread(\"/content/APJ-Abdul-Kalam-01.jpg\")\n",
        "type(img)"
      ],
      "metadata": {
        "id": "XEvK27QR2C5S"
      },
      "execution_count": null,
      "outputs": []
    },
    {
      "cell_type": "code",
      "source": [
        "img.shape"
      ],
      "metadata": {
        "id": "2NkDt-Rk2L6r"
      },
      "execution_count": null,
      "outputs": []
    },
    {
      "cell_type": "code",
      "source": [
        "grayscale_image=cv2.cvtColor(img,cv2.COLOR_RGB2GRAY)\n",
        "type(grayscale_image)\n",
        "grayscale_image.shape\n",
        "\n",
        "\n"
      ],
      "metadata": {
        "id": "kaGJ-yd-2Oca"
      },
      "execution_count": null,
      "outputs": []
    },
    {
      "cell_type": "code",
      "source": [
        "from google.colab.patches import cv2_imshow"
      ],
      "metadata": {
        "id": "42K2F8Lh3gBg"
      },
      "execution_count": null,
      "outputs": []
    },
    {
      "cell_type": "code",
      "source": [
        "#displaying the image\n",
        "cv2_imshow(grayscale_image)"
      ],
      "metadata": {
        "id": "tI4Koscs3-KQ"
      },
      "execution_count": null,
      "outputs": []
    },
    {
      "cell_type": "code",
      "source": [
        "#Saving the grayscalle image\n",
        "#cv2.imwrite(\"APJ Final output\")\n",
        "cv2.imwrite(\"APJ_Final_Output.jpg\", grayscale_image)"
      ],
      "metadata": {
        "id": "RnKZr_jU4LZh"
      },
      "execution_count": null,
      "outputs": []
    }
  ]
}